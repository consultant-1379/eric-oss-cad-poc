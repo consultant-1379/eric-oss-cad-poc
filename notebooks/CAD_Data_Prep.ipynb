{
 "cells": [
  {
   "cell_type": "code",
   "execution_count": 185,
   "metadata": {},
   "outputs": [],
   "source": [
    "def load_gnbcucp_cm(gnbcucp_filepath):\n",
    "    df = open_file(gnbcucp_filepath)\n",
    "    df['GNBID']= df['GNBID'].map(str)\n",
    "    df['GNBID_LENGTH']= df['GNBID_LENGTH'].map(str)\n",
    "    df['MCC']= df['MCC'].map(str)\n",
    "    df['MNC']= df['MNC'].map(str)\n",
    "\n",
    "    return df"
   ]
  },
  {
   "cell_type": "code",
   "execution_count": 186,
   "metadata": {},
   "outputs": [],
   "source": [
    "def load_nrcellcu_cm(nrcellcu_filepath):\n",
    "    df = open_file(nrcellcu_filepath)\n",
    "    df['cellLocalId']= df['cellLocalId'].map(str)\n",
    "    df['nCI']= df['nCI'].map(str)\n",
    "\n",
    "    return df"
   ]
  },
  {
   "cell_type": "code",
   "execution_count": 187,
   "metadata": {},
   "outputs": [],
   "source": [
    "def load_merge_gnbcucp_cellcu(gnbcucp_filepath, cellcu_filepath):\n",
    "    df_gnbcucp = load_gnbcucp_cm(gnbcucp_filepath)\n",
    "    df_nrcelldu = load_nrcellcu_cm(cellcu_filepath)\n",
    "\n",
    "    df_cucp_cellcu_merged = df_nrcelldu.merge(\n",
    "    df_gnbcucp, how=\"left\", left_on=['meFdn', 'parentRefId'], right_on=['meFdn', 'refId'])\n",
    "\n",
    "    df_cucp_cellcu_merged.rename({'refId_x': 'refId'}, axis=1, inplace=True)\n",
    "    df_cucp_cellcu_merged.drop(columns=['refId_y'], inplace=True)\n",
    "\n",
    "    df_cucp_cellcu_merged['NodeName'] = df_cucp_cellcu_merged['meFdn'].apply(lambda x: split_name(x, 'ManagedElement='))\n",
    "    df_cucp_cellcu_merged['CellName'] = df_cucp_cellcu_merged['refId'].apply(lambda x: split_name(x, 'NRCellCU='))\n",
    "\n",
    "    return df_cucp_cellcu_merged\n"
   ]
  },
  {
   "cell_type": "code",
   "execution_count": 188,
   "metadata": {},
   "outputs": [],
   "source": [
    "def load_nrcellcu_ebs(nrcellcu_ebs_filepath, date, counters):\n",
    "    df = open_file(nrcellcu_ebs_filepath)\n",
    "    df = df[df['rdiTimeStamp'] == date]\n",
    "\n",
    "    df['NodeName'] = df['fdn'].apply(lambda x: split_name(x, 'ManagedElement='))\n",
    "    df['CellName'] = df['fdn'].apply(lambda x: split_name(x, 'NRCellCU='))\n",
    "    df['nrcellcu_HO']  = df[counters].sum(axis=1)\n",
    "\n",
    "    df.drop(['rdiTimeStamp', 'operator', 'pmEbsEndcPSCellChangeSuccInterSgnb',\n",
    "                        'pmEbsEndcPSCellChangeSuccIntraSgnb', 'pmEbsHoExeSuccOutInterGnb',\n",
    "                        'pmEbsHoExeSuccOutIntraGnb', 'fdn'], axis=1, inplace=True)\n",
    "    \n",
    "    return df"
   ]
  },
  {
   "cell_type": "code",
   "execution_count": 189,
   "metadata": {},
   "outputs": [],
   "source": [
    "def load_nrcellrelation_ebs(nrcellrelation_ebs_filepath, date, counters):\n",
    "    df = open_file(nrcellrelation_ebs_filepath)\n",
    "    df = df[df['rdiTimeStamp'] == date]\n",
    "\n",
    "    df = df[~df['pmEbsEndcPSCellChangeSuccInterSgnb'].isnull()]\n",
    "\n",
    "    df['NodeName'] = df['fdn'].apply(lambda x: split_name(x, 'ManagedElement='))\n",
    "    df['CellName'] = df['fdn'].apply(lambda x: split_name(x, 'NRCellCU='))\n",
    "    df['RelName'] = df['fdn'].apply(lambda x: split_name(x, 'NRCellRelation=').replace('auto', ''))\n",
    "\n",
    "    df['nrcellrelation_HO']  = df[counters].sum(axis=1)\n",
    "\n",
    "    df.drop(['rdiTimeStamp', 'operator', 'pmEbsEndcPSCellChangeSuccInterSgnb',\n",
    "                        'pmEbsEndcPSCellChangeSuccIntraSgnb', 'pmEbsHoExeSuccOutInterGnb',\n",
    "                        'pmEbsHoExeSuccOutIntraGnb', 'fdn'], axis=1, inplace=True)\n",
    "\n",
    "    df[['mcc', 'mnc', 'gnb', 'cellid']] = df['RelName'].str.split('_', expand=True)\n",
    "\n",
    "    return df"
   ]
  },
  {
   "cell_type": "code",
   "execution_count": 190,
   "metadata": {},
   "outputs": [],
   "source": [
    "def merge_cell_ho_counter(df_ebs_nrcellcu, df_ebs_cellrelation):\n",
    "    df = df_ebs_cellrelation.merge(\n",
    "        df_ebs_nrcellcu, how=\"left\", left_on=['NodeName', 'CellName'], right_on=['NodeName', 'CellName'])\n",
    "\n",
    "    df['arcBalance'] = df['nrcellrelation_HO']/ df['nrcellcu_HO']\n",
    "\n",
    "    df.drop(['nrcellrelation_HO', 'nrcellcu_HO', 'mcc', 'mnc', 'RelName'], axis=1, inplace=True)\n",
    "\n",
    "    return df"
   ]
  },
  {
   "cell_type": "code",
   "execution_count": 191,
   "metadata": {},
   "outputs": [],
   "source": [
    "def merge_source_details(df_ebs_merge, df_cucp_cellcu_merged):\n",
    "    df = df_ebs_merge.merge(\n",
    "        df_cucp_cellcu_merged, how=\"left\", left_on=['NodeName', 'CellName'], right_on=['NodeName', 'CellName'])\n",
    "\n",
    "    df = df[~df['meFdn'].isnull()]\n",
    "\n",
    "    df.rename({'CellName': 'src_nRCellCUId', \n",
    "                                'nCI': 'src_nCI',\n",
    "                            'nRFrequencyRef': 'src_nRFrequencyRef'}, axis=1, inplace=True)\n",
    "\n",
    "    df.drop(columns=['NodeName', 'meFdn', 'parentRefId', 'refId', 'cellLocalId',\n",
    "                                    'GNBID', 'GNBID_LENGTH', 'MCC', 'MNC'], inplace=True)\n",
    "    \n",
    "    return df"
   ]
  },
  {
   "cell_type": "code",
   "execution_count": 192,
   "metadata": {},
   "outputs": [],
   "source": [
    "def merge_target_details(df_ebs_source_merge, df_cucp_cellcu_merged):\n",
    "    df = df_ebs_source_merge.merge(\n",
    "        df_cucp_cellcu_merged, how=\"left\", left_on=['gnb', 'cellid'], right_on=['GNBID', 'cellLocalId'])\n",
    "\n",
    "    df.rename({'gnb': 'tgt_gNBId', 'CellName': 'tgt_nRCellCUId',\n",
    "                                'nCI': 'tgt_nCI', 'GNBID_LENGTH': 'tgt_gNBIdLength', \n",
    "                            'nRFrequencyRef': 'tgt_nRFrequencyRef'}, axis=1, inplace=True)\n",
    "\n",
    "    df.drop(columns=['meFdn', 'parentRefId', 'refId', 'cellid', \n",
    "                                    'cellLocalId', 'GNBID', 'MCC', 'MNC', 'NodeName'], inplace=True)\n",
    "\n",
    "    df = df[~df['tgt_nCI'].isnull()]\n",
    "\n",
    "    return df"
   ]
  },
  {
   "cell_type": "code",
   "execution_count": 193,
   "metadata": {},
   "outputs": [],
   "source": [
    "def create_capacity_data(capacity_filepath, date):\n",
    "    df = open_file(capacity_filepath)\n",
    "    df = df[['fdn', 'rdiTimeStamp', 'pmMacRBSymUsedPdschTypeA', 'pmMacRBSymAvailDl']]\n",
    "    df = df[df['rdiTimeStamp'] == date]\n",
    "    df.rename({'rdiTimeStamp': 'timestamp'}, axis=1, inplace=True)\n",
    "\n",
    "    return df"
   ]
  },
  {
   "cell_type": "code",
   "execution_count": 194,
   "metadata": {},
   "outputs": [],
   "source": [
    "def create_TMO_data_sample(source_path, output_path, date):\n",
    "    print('Generating CAD input data for ' + date)\n",
    "    df_cucp_cellcu_merged = load_merge_gnbcucp_cellcu(source_path + '/cm/gnbcucpfunction.csv', source_path + '/cm/nrcell_cu.csv')\n",
    "    write_file(df_cucp_cellcu_merged, output_path + '/cucp_cellcu_merge.csv')\n",
    "\n",
    "    counters = ['pmEbsEndcPSCellChangeSuccInterSgnb', 'pmEbsEndcPSCellChangeSuccIntraSgnb', \n",
    "        'pmEbsHoExeSuccOutInterGnb', 'pmEbsHoExeSuccOutIntraGnb']\n",
    "\n",
    "    df_ebs_nrcellcu = load_nrcellcu_ebs(source_path + '/ebs_NRCellCU_08_week3.csv', date, counters)\n",
    "\n",
    "    df_ebs_cellrelation = load_nrcellrelation_ebs(source_path + '/ebs_NRCellRelation_08_week3.csv', date, counters)\n",
    "\n",
    "    df_ebs_merge = merge_cell_ho_counter(df_ebs_nrcellcu, df_ebs_cellrelation)\n",
    "    df_ebs_source_merge = merge_source_details(df_ebs_merge, df_cucp_cellcu_merged)\n",
    "    df_ebs_source_merge = merge_target_details(df_ebs_source_merge, df_cucp_cellcu_merged)\n",
    "    write_file(df_ebs_source_merge, output_path + '/coverage_data_' + date + '.csv')\n",
    "\n",
    "    df_capacity = create_capacity_data(source_path + '/nrcellDU_08_week3.csv', date)\n",
    "    write_file(df_capacity, output_path + '/capacity_data_' + date + '.csv')\n",
    "    print('Data generation complete \\n')\n",
    "\n",
    "\n"
   ]
  }
 ],
 "metadata": {
  "kernelspec": {
   "display_name": "Python 3",
   "language": "python",
   "name": "python3"
  },
  "language_info": {
   "codemirror_mode": {
    "name": "ipython",
    "version": 3
   },
   "file_extension": ".py",
   "mimetype": "text/x-python",
   "name": "python",
   "nbconvert_exporter": "python",
   "pygments_lexer": "ipython3",
   "version": "3.10.5"
  },
  "orig_nbformat": 4,
  "vscode": {
   "interpreter": {
    "hash": "369f2c481f4da34e4445cda3fffd2e751bd1c4d706f27375911949ba6bb62e1c"
   }
  }
 },
 "nbformat": 4,
 "nbformat_minor": 2
}
