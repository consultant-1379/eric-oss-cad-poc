{
 "cells": [
  {
   "cell_type": "code",
   "execution_count": 8,
   "metadata": {},
   "outputs": [],
   "source": [
    "import pandas as pd\n",
    "import numpy as np\n",
    "import time\n",
    "\n",
    "import matplotlib.pyplot as plt\n",
    "from matplotlib.pyplot import figure\n",
    "import networkx as nx\n",
    "from pandas.plotting._matplotlib.style import get_standard_colors\n",
    "import os\n",
    "import gravis as gv"
   ]
  },
  {
   "cell_type": "code",
   "execution_count": null,
   "metadata": {},
   "outputs": [],
   "source": [
    "from IPython.display import display, HTML\n",
    "from IPython.display import Markdown as md\n",
    "\n",
    "display(HTML(\"<style>.container { width:80% !important; }</style>\"))\n",
    "display(HTML(\"<style>.output_result { max-width:80% !important; }</style>\"))"
   ]
  },
  {
   "cell_type": "code",
   "execution_count": null,
   "metadata": {},
   "outputs": [],
   "source": [
    "def open_file(filename):\n",
    "    return pd.read_csv(filename, sep=',', index_col=0)\n",
    "\n",
    "def split_name(fdn, split_key):\n",
    "    return fdn.split(split_key)[1].split(',')[0]\n",
    "\n",
    "def write_file(dataframe, filename):\n",
    "    dataframe.to_csv(filename, sep=',')"
   ]
  },
  {
   "cell_type": "code",
   "execution_count": null,
   "metadata": {},
   "outputs": [],
   "source": [
    "# Check timing - print current time, time since last call, and time since script started:\n",
    "startTime = time.time()\n",
    "lastTime = startTime\n",
    "def checkTiming():\n",
    "    global lastTime\n",
    "    print ('Time spent since last check point: {:}'.format(time.strftime('%H:%M:%S', time.gmtime(time.time() - lastTime))))\n",
    "    print ('Time spent since start of script: {:}'.format(time.strftime('%H:%M:%S', time.gmtime(time.time() - startTime))))\n",
    "    lastTime = time.time()"
   ]
  }
 ],
 "metadata": {
  "kernelspec": {
   "display_name": "Python 3",
   "language": "python",
   "name": "python3"
  },
  "language_info": {
   "codemirror_mode": {
    "name": "ipython",
    "version": 3
   },
   "file_extension": ".py",
   "mimetype": "text/x-python",
   "name": "python",
   "nbconvert_exporter": "python",
   "pygments_lexer": "ipython3",
   "version": "3.10.5"
  },
  "orig_nbformat": 4,
  "vscode": {
   "interpreter": {
    "hash": "369f2c481f4da34e4445cda3fffd2e751bd1c4d706f27375911949ba6bb62e1c"
   }
  }
 },
 "nbformat": 4,
 "nbformat_minor": 2
}
